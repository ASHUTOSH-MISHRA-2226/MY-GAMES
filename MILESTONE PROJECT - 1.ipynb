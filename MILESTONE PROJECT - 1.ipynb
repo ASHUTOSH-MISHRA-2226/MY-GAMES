{
 "cells": [
  {
   "cell_type": "markdown",
   "id": "0ec9cd5d",
   "metadata": {},
   "source": [
    "FIRST PYTHON MILESTONE PROJECT \n",
    "\n",
    "TIC-TAC-TOE GAME OF 2 HUMAN PLAYERS "
   ]
  },
  {
   "cell_type": "code",
   "execution_count": 1,
   "id": "b636a2bf",
   "metadata": {},
   "outputs": [],
   "source": [
    "# STEP 1\n",
    "\n",
    "from IPython.display import clear_output\n",
    "def display_board(board):\n",
    "    print(  board[7]+' |'+board[8]+' |'+board[9])\n",
    "    print('---+---+---') \n",
    "    print(  board[4]+' |'+board[5]+' |'+board[6])\n",
    "    print('---+---+---')\n",
    "    print(  board[1]+' |'+board[2]+' |'+board[3])"
   ]
  },
  {
   "cell_type": "code",
   "execution_count": 2,
   "id": "307df5e0",
   "metadata": {},
   "outputs": [
    {
     "name": "stdout",
     "output_type": "stream",
     "text": [
      "   |   |  \n",
      "---+---+---\n",
      "   |   |  \n",
      "---+---+---\n",
      "   |   |  \n"
     ]
    }
   ],
   "source": [
    "test_board=['  ']*10\n",
    "display_board(test_board)"
   ]
  },
  {
   "cell_type": "code",
   "execution_count": 3,
   "id": "ab359766",
   "metadata": {},
   "outputs": [],
   "source": [
    "# STEP 2\n",
    "\n",
    "def player_input():\n",
    "    marker=''\n",
    "    \n",
    "    #KEEP ASKING PLAYER 1 to choose X or O\n",
    "    while not(marker==' X' or marker==' O'):\n",
    "        marker=input('Player 1, choose X or O : ').upper()\n",
    "    #ASSIGN PLAYER 2, the opposite marker\n",
    "    player1=marker\n",
    "    if player1==' X':\n",
    "        player2=' O'\n",
    "    else:\n",
    "        player2=' X'\n",
    "    return (player1,player2)"
   ]
  },
  {
   "cell_type": "code",
   "execution_count": 4,
   "id": "a70d0f92",
   "metadata": {},
   "outputs": [
    {
     "name": "stdout",
     "output_type": "stream",
     "text": [
      "Player 1, choose X or O :  X\n"
     ]
    },
    {
     "data": {
      "text/plain": [
       "(' X', ' O')"
      ]
     },
     "execution_count": 4,
     "metadata": {},
     "output_type": "execute_result"
    }
   ],
   "source": [
    "player_input()\n"
   ]
  },
  {
   "cell_type": "code",
   "execution_count": 5,
   "id": "c1920380",
   "metadata": {},
   "outputs": [],
   "source": [
    "# STEP 3\n",
    "\n",
    "def place_marker(board,marker,position):\n",
    "    board[position]=marker"
   ]
  },
  {
   "cell_type": "code",
   "execution_count": 6,
   "id": "fb4d8ef7",
   "metadata": {},
   "outputs": [
    {
     "data": {
      "text/plain": [
       "['  ', '  ', '  ', '  ', '  ', '  ', '  ', '  ', '  ', '  ']"
      ]
     },
     "execution_count": 6,
     "metadata": {},
     "output_type": "execute_result"
    }
   ],
   "source": [
    "test_board"
   ]
  },
  {
   "cell_type": "code",
   "execution_count": 14,
   "id": "b77a372c",
   "metadata": {},
   "outputs": [],
   "source": [
    "# STEP 4\n",
    "\n",
    "def win_check(board,mark):\n",
    "    \n",
    "    # WIN TIC TAC TOE\n",
    "    \n",
    "    # ALL ROWS, and check to see if they all share the same marker?\n",
    "    # ALL COLUMNS, check to see if marker matches\n",
    "    # 2 diagonals, check to see match\n",
    "    return (board[7]==mark and board[8]==mark and board[9]==mark)or(board[4]==mark and board[5]==mark and board[6]==mark)or(board[1]==mark and board[2]==mark and board[3]==mark)or(board[7]==mark and board[4]==mark and board[1]==mark)or(board[8]==mark and board[5]==mark and board[2]==mark)or (board[9]==mark and board[6]==mark and board[3]==mark)or  (board[7]==mark and board[5]==mark and board[3]==mark)or(board[9]==mark and board[5]==mark and board[1]==mark)                   \n",
    "                          \n",
    "          \n",
    "              \n",
    "              \n",
    "   \n",
    "            \n",
    "    \n",
    "    "
   ]
  },
  {
   "cell_type": "code",
   "execution_count": 15,
   "id": "044bd907",
   "metadata": {},
   "outputs": [],
   "source": [
    "# STEP 5\n",
    "\n",
    "import random\n",
    "def choose_first():\n",
    "    flip = random.randint(0,1)\n",
    "    if flip==0:\n",
    "        return \"Player 1\"\n",
    "    else:\n",
    "        return \"player 2\""
   ]
  },
  {
   "cell_type": "code",
   "execution_count": 16,
   "id": "d80d7571",
   "metadata": {},
   "outputs": [],
   "source": [
    "# STEP 6\n",
    "\n",
    "def space_check(board,position):\n",
    "    return board[position]=='  '"
   ]
  },
  {
   "cell_type": "code",
   "execution_count": 10,
   "id": "4f7c18e3",
   "metadata": {},
   "outputs": [],
   "source": [
    "# STEP 7\n",
    "\n",
    "def full_board_check(board):\n",
    "    for i in range(1,10):\n",
    "        if space_check(board,i):\n",
    "            return False\n",
    "    return True"
   ]
  },
  {
   "cell_type": "code",
   "execution_count": 11,
   "id": "8da7c1b4",
   "metadata": {},
   "outputs": [],
   "source": [
    "# STEP 8\n",
    "\n",
    "def player_choice(board):\n",
    "    position=0\n",
    "    while position not in[1,2,3,4,5,6,7,8,9] or not space_check(board,position):\n",
    "        position=int(input('Choose a position : (1,9)'))\n",
    "        \n",
    "    return position\n",
    "    "
   ]
  },
  {
   "cell_type": "code",
   "execution_count": 12,
   "id": "da876a8a",
   "metadata": {},
   "outputs": [],
   "source": [
    "# STEP 9\n",
    "\n",
    "def replay():\n",
    "    choice = input(\"Play again ? Enter Yes or No\")\n",
    "    return choice=='Yes'"
   ]
  },
  {
   "cell_type": "code",
   "execution_count": 13,
   "id": "158563d5",
   "metadata": {},
   "outputs": [
    {
     "name": "stdout",
     "output_type": "stream",
     "text": [
      "Welcome to TIC-TAC-TOE!\n",
      "Player 1, choose X or O :  X\n",
      "player 2 will go first\n",
      "Ready to play ? y or n ?1\n",
      "Play again ? Enter Yes or NoYes\n",
      "Player 1, choose X or O :  X\n",
      "player 2 will go first\n",
      "Ready to play ? y or n ?y\n",
      "   |   |  \n",
      "---+---+---\n",
      "   |   |  \n",
      "---+---+---\n",
      "   |   |  \n",
      "Choose a position : (1,9)1\n",
      "   |   |  \n",
      "---+---+---\n",
      "   |   |  \n",
      "---+---+---\n",
      " O |   |  \n",
      "Choose a position : (1,9)2\n",
      "   |   |  \n",
      "---+---+---\n",
      "   |   |  \n",
      "---+---+---\n",
      " O | X |  \n",
      "Choose a position : (1,9)5\n",
      "   |   |  \n",
      "---+---+---\n",
      "   | O |  \n",
      "---+---+---\n",
      " O | X |  \n",
      "Choose a position : (1,9)4\n",
      "   |   |  \n",
      "---+---+---\n",
      " X | O |  \n",
      "---+---+---\n",
      " O | X |  \n",
      "Choose a position : (1,9)9\n",
      "   |   | O\n",
      "---+---+---\n",
      " X | O |  \n",
      "---+---+---\n",
      " O | X |  \n",
      "Player 2 has won !!\n",
      "Play again ? Enter Yes or NoNo\n"
     ]
    }
   ],
   "source": [
    "# STEP 10\n",
    "\n",
    "\n",
    "print(\"Welcome to TIC-TAC-TOE!\")\n",
    "\n",
    "while True:\n",
    "    \n",
    "    the_board = ['  ']*10\n",
    "    player1_marker,player2_marker=player_input()\n",
    "    \n",
    "    turn=choose_first()\n",
    "    print(turn+' will go first')\n",
    "    play_game=input(\"Ready to play ? y or n ?\")\n",
    "    if play_game=='y':\n",
    "        game_on=True\n",
    "    else:\n",
    "        game_on=False\n",
    "        \n",
    "    while game_on:\n",
    "        if turn=='Player 1':\n",
    "            display_board(the_board)\n",
    "            position=player_choice(the_board)\n",
    "            place_marker(the_board,player1_marker,position)\n",
    "            \n",
    "            if win_check(the_board,player1_marker):\n",
    "                display_board(the_board)\n",
    "                print('Player 1 has won !!')\n",
    "                game_on=False\n",
    "            else:\n",
    "                if full_board_check(the_board):\n",
    "                    display_board(the_board)\n",
    "                    print('TIE Game !')\n",
    "                    game_on=False\n",
    "                else:\n",
    "                    turn = 'Player 2'\n",
    "            \n",
    "            \n",
    "        else:\n",
    "            \n",
    "            display_board(the_board)\n",
    "            position=player_choice(the_board)\n",
    "            place_marker(the_board,player2_marker,position)\n",
    "            \n",
    "            if win_check(the_board,player2_marker):\n",
    "                display_board(the_board)\n",
    "                print('Player 2 has won !!')\n",
    "                game_on=False\n",
    "            else:\n",
    "                if full_board_check(the_board):\n",
    "                    display_board(the_board)\n",
    "                    print('TIE Game !')\n",
    "                    game_on=False\n",
    "                else:\n",
    "                    turn = 'Player 1'            \n",
    "            \n",
    "    \n",
    "    if not replay():\n",
    "        break\n",
    "    "
   ]
  },
  {
   "cell_type": "code",
   "execution_count": null,
   "id": "15f2a238",
   "metadata": {},
   "outputs": [],
   "source": []
  },
  {
   "cell_type": "code",
   "execution_count": null,
   "id": "d20d5f7e",
   "metadata": {},
   "outputs": [],
   "source": []
  }
 ],
 "metadata": {
  "kernelspec": {
   "display_name": "Python 3 (ipykernel)",
   "language": "python",
   "name": "python3"
  },
  "language_info": {
   "codemirror_mode": {
    "name": "ipython",
    "version": 3
   },
   "file_extension": ".py",
   "mimetype": "text/x-python",
   "name": "python",
   "nbconvert_exporter": "python",
   "pygments_lexer": "ipython3",
   "version": "3.9.12"
  }
 },
 "nbformat": 4,
 "nbformat_minor": 5
}
