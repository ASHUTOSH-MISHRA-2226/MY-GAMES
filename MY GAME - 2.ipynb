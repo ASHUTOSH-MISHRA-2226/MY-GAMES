{
 "cells": [
  {
   "cell_type": "code",
   "execution_count": 1,
   "id": "6e8a9fa4",
   "metadata": {},
   "outputs": [],
   "source": [
    "# CARD CLASS\n",
    "# Suit, Rank, Value\n",
    "\n",
    "import random\n",
    "suits=('Hearts', 'Diamonds', 'Spades', 'Clubs')\n",
    "ranks=('Two', 'Three', 'Four', 'Five', 'Six', 'Seven', 'Eight', 'Nine', 'Ten', 'Jack', 'Queen', 'King', 'Ace')\n",
    "values={'Two':2, 'Three':3, 'Four':4, 'Five':5, 'Six':6, 'Seven':7, 'Eight':8, \n",
    "            'Nine':9, 'Ten':10, 'Jack':11, 'Queen':12, 'King':13, 'Ace':14}"
   ]
  },
  {
   "cell_type": "code",
   "execution_count": 2,
   "id": "0fbbd95a",
   "metadata": {},
   "outputs": [],
   "source": [
    "class Card():\n",
    "    def __init__(self,suit,rank):\n",
    "        self.suit=suit\n",
    "        self.rank=rank\n",
    "        self.value=values[rank]\n",
    "        \n",
    "    def __str__(self):\n",
    "        return self.rank + \" of \" + self.suit"
   ]
  },
  {
   "cell_type": "code",
   "execution_count": 3,
   "id": "5cf6e647",
   "metadata": {},
   "outputs": [],
   "source": [
    "# DECK CLASS\n",
    "\n",
    "class Deck():\n",
    "    def __init__(self):\n",
    "        self.all_cards=[]\n",
    "        for suit in suits:\n",
    "            for rank in ranks:\n",
    "                # Create the card objects\n",
    "                created_card=Card(suit,rank)\n",
    "                self.all_cards.append(created_card)\n",
    "                \n",
    "    def shuffle(self):\n",
    "        random.shuffle(self.all_cards)\n",
    "    def deal_one(self):\n",
    "        return self.all_cards.pop()"
   ]
  },
  {
   "cell_type": "code",
   "execution_count": 4,
   "id": "6d502749",
   "metadata": {},
   "outputs": [],
   "source": [
    "# PLAYER CLASS\n",
    "class Player():\n",
    "    def __init__(self,name):\n",
    "        self.name=name\n",
    "        self.all_cards=[]\n",
    "        \n",
    "    def remove_one(self):\n",
    "        return self.all_cards.pop(0)\n",
    "    \n",
    "    def add_cards(self,new_cards):\n",
    "        if type(new_cards)==type([]):\n",
    "            # List of multiple card objects\n",
    "            self.all_cards.extend(new_cards)\n",
    "            \n",
    "        else:\n",
    "            # for a single card object\n",
    "            self.all_cards.append(new_cards)\n",
    "    \n",
    "    def __str__(self):\n",
    "        return f'Player {self.name} has {len(self.all_cards)} cards.'"
   ]
  },
  {
   "cell_type": "code",
   "execution_count": 5,
   "id": "ba7a6dd8",
   "metadata": {},
   "outputs": [],
   "source": [
    "# GAME SETUP\n",
    "player_one=Player(\"One\")\n",
    "player_two=Player(\"Two\")\n",
    "\n",
    "new_deck = Deck()\n",
    "new_deck.shuffle()\n",
    "\n",
    "for x in range(26):\n",
    "    player_one.add_cards(new_deck.deal_one())\n",
    "    player_two.add_cards(new_deck.deal_one())\n",
    "    "
   ]
  },
  {
   "cell_type": "code",
   "execution_count": 6,
   "id": "f3533ac8",
   "metadata": {},
   "outputs": [],
   "source": [
    "game_on=True"
   ]
  },
  {
   "cell_type": "code",
   "execution_count": 7,
   "id": "8f679c37",
   "metadata": {},
   "outputs": [
    {
     "name": "stdout",
     "output_type": "stream",
     "text": [
      "Round 1\n",
      "Round 2\n",
      "Round 3\n",
      "Round 4\n",
      "Round 5\n",
      "Round 6\n",
      "Round 7\n",
      "Round 8\n",
      "Round 9\n",
      "WAR!\n",
      "Player One unable to declare war\n",
      "Player Two WINS!!\n"
     ]
    }
   ],
   "source": [
    "# While game_on\n",
    "round_num=0\n",
    "while game_on:\n",
    "    round_num += 1\n",
    "    print(f\"Round {round_num}\")\n",
    "    \n",
    "    if len(player_one.all_cards)==0:\n",
    "        print('Player One, out of cards! Player Two wins!')\n",
    "        game_on=False\n",
    "        break\n",
    "        \n",
    "    if len(player_two.all_cards)==0:\n",
    "        print('Player Two, out of cards! Player One wins!')\n",
    "        game_on=False\n",
    "        break\n",
    "        \n",
    "    # Start a new round\n",
    "    player_one_cards=[]\n",
    "    player_one_cards.append(player_one.remove_one())\n",
    "    \n",
    "    player_two_cards=[]\n",
    "    player_two_cards.append(player_two.remove_one())\n",
    "    \n",
    "    # AT WAR\n",
    "    \n",
    "    at_war=True\n",
    "    while at_war:\n",
    "        \n",
    "        if player_one_cards[-1].value > player_two_cards[-1].value :\n",
    "            player_one.add_cards(player_one_cards)\n",
    "            player_one.add_cards(player_two_cards)\n",
    "            \n",
    "            at_war=False\n",
    "            \n",
    "            \n",
    "        elif player_one_cards[-1].value < player_two_cards[-1].value :\n",
    "            player_two.add_cards(player_one_cards)\n",
    "            player_two.add_cards(player_two_cards)\n",
    "            \n",
    "            at_war=False\n",
    "            \n",
    "            \n",
    "        else:\n",
    "            print(\"WAR!\")\n",
    "            \n",
    "            if len(player_one_cards) < 5:\n",
    "                print(\"Player One unable to declare war\")\n",
    "                print(\"Player Two WINS!!\")\n",
    "                game_on=False\n",
    "                break\n",
    "                \n",
    "            elif len(player_two_cards) < 5:\n",
    "                print(\"Player Two unable to declare war\")\n",
    "                print(\"Player One WINS!!\")\n",
    "                game_on=False\n",
    "                break\n",
    "                \n",
    "            else:\n",
    "                for num in range(5):\n",
    "                    player_one_cards.append(player_one.remove_one())\n",
    "                    player_two_cards.append(player_two.remove_one())   "
   ]
  },
  {
   "cell_type": "code",
   "execution_count": null,
   "id": "84c5e3e5",
   "metadata": {},
   "outputs": [],
   "source": []
  }
 ],
 "metadata": {
  "kernelspec": {
   "display_name": "Python 3 (ipykernel)",
   "language": "python",
   "name": "python3"
  },
  "language_info": {
   "codemirror_mode": {
    "name": "ipython",
    "version": 3
   },
   "file_extension": ".py",
   "mimetype": "text/x-python",
   "name": "python",
   "nbconvert_exporter": "python",
   "pygments_lexer": "ipython3",
   "version": "3.9.12"
  }
 },
 "nbformat": 4,
 "nbformat_minor": 5
}
